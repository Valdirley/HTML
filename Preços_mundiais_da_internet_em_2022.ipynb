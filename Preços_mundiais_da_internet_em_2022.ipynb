{
  "nbformat": 4,
  "nbformat_minor": 0,
  "metadata": {
    "colab": {
      "name": "Cópia de Preços mundiais da internet em 2022.ipynb",
      "provenance": [],
      "include_colab_link": true
    },
    "kernelspec": {
      "name": "python3",
      "display_name": "Python 3"
    },
    "language_info": {
      "name": "python"
    }
  },
  "cells": [
    {
      "cell_type": "markdown",
      "metadata": {
        "id": "view-in-github",
        "colab_type": "text"
      },
      "source": [
        "<a href=\"https://colab.research.google.com/github/Valdirley/HTML/blob/main/Pre%C3%A7os_mundiais_da_internet_em_2022.ipynb\" target=\"_parent\"><img src=\"https://colab.research.google.com/assets/colab-badge.svg\" alt=\"Open In Colab\"/></a>"
      ]
    },
    {
      "cell_type": "markdown",
      "source": [
        "# Projeto - Preços da Internet em mais de 200 países em 2022."
      ],
      "metadata": {
        "id": "TNHMj3fTCC6D"
      }
    },
    {
      "cell_type": "markdown",
      "source": [
        "**Cabeçalho:**\n",
        "\n",
        "Instituição: Escola Agricula de Jundiaí - EAJ - Macaiba - RN\n",
        "\n",
        "Vinculo: Universidade Federal do Rio Grande do Norte - UFRN\n",
        "\n",
        "Curso: Analise e Desenvolvimento de Sistemas - TADS\n",
        "\n",
        "Docente: Tásia Moura Cardoso do Vale\n",
        "\n",
        "Discentes: Valdirley N Braz"
      ],
      "metadata": {
        "id": "gx1d9VysCTM6"
      }
    },
    {
      "cell_type": "markdown",
      "source": [
        "# Sobre o conjunto de dados\n",
        "\n",
        "\n",
        "> A Internet na Índia começou em 1986 e estava disponível apenas para a comunidade educacional e de pesquisa. O acesso público geral à internet começou em 15 de agosto de 1995 e, em 2020, existem 718,74 milhões de usuários ativos de internet que representam 54,29% da população.\n",
        "A partir de maio de 2014, a Internet é entregue à Índia principalmente por 9 fibras submarinas diferentes, incluindo SEA-ME-WE 3, Bay of Bengal Gateway e Europe India Gateway, chegando a 5 pontos de aterrissagem diferentes. na cidade de Agartala, perto da fronteira com Bangladesh.\n",
        "O governo indiano embarcou em projetos como BharatNet, Digital India, Brand India e Startup India para acelerar ainda mais o crescimento de ecossistemas baseados na Internet.\n",
        "\n"
      ],
      "metadata": {
        "id": "NA6AOtquDJ7U"
      }
    },
    {
      "cell_type": "markdown",
      "source": [
        "# Começo do código em python"
      ],
      "metadata": {
        "id": "iXz4e_vnEhy7"
      }
    },
    {
      "cell_type": "code",
      "source": [
        "import pandas as pd\n",
        "import numpy as np\n",
        "import matplotlib.pyplot as plt\n",
        "import seaborn as sb"
      ],
      "metadata": {
        "id": "YrYS2worEk6z"
      },
      "execution_count": null,
      "outputs": []
    },
    {
      "cell_type": "code",
      "source": [
        "valorInternet = pd.read_csv('https://raw.githubusercontent.com/Nathan-Leocadio/Internet-Prices-around/main/worldwide%20internet%20prices%20in%202022%20-%20IN%202022.csv')"
      ],
      "metadata": {
        "id": "Ww0vEtJ7EoyL"
      },
      "execution_count": null,
      "outputs": []
    },
    {
      "cell_type": "markdown",
      "source": [
        "**Contexto do Dataset:**\n",
        "\n",
        "\n",
        "> **Preços mundiais da internet em 2022** \n"
      ],
      "metadata": {
        "id": "G---P3cxE2_0"
      }
    },
    {
      "cell_type": "markdown",
      "source": [
        "# Descrição das medidas de posicao e variabilidade"
      ],
      "metadata": {
        "id": "3EMDOIorFw0V"
      }
    },
    {
      "cell_type": "code",
      "source": [
        "valorInternet"
      ],
      "metadata": {
        "colab": {
          "base_uri": "https://localhost:8080/",
          "height": 554
        },
        "id": "gobBks_KGz5D",
        "outputId": "fdad1791-a1cc-4c37-fdf4-0877073bee60"
      },
      "execution_count": null,
      "outputs": [
        {
          "output_type": "execute_result",
          "data": {
            "text/plain": [
              "    Country code                            Name  Continental region  \\\n",
              "0             IL                          Israel           NEAR EAST   \n",
              "1             KG                      Kyrgyzstan   CIS (FORMER USSR)   \n",
              "2             FJ                            Fiji             OCEANIA   \n",
              "3             IT                           Italy      WESTERN EUROPE   \n",
              "4             SD                           Sudan  SUB-SAHARAN AFRICA   \n",
              "..           ...                             ...                 ...   \n",
              "237           VA         Vatican City (Holy See)              Europe   \n",
              "238           VE                       Venezuela       SOUTH AMERICA   \n",
              "239           WF               Wallis and Futuna             OCEANIA   \n",
              "240           CD  Congo (Democratic Republic of)  SUB-SAHARAN AFRICA   \n",
              "241           ZW                        Zimbabwe  SUB-SAHARAN AFRICA   \n",
              "\n",
              "     NO. OF Internet Plans                 Average price of 1GB (USD)  \\\n",
              "0                      27.0                                     $0.05   \n",
              "1                      20.0                                     $0.15   \n",
              "2                      18.0                                     $0.19   \n",
              "3                      29.0                                     $0.27   \n",
              "4                      33.0                                     $0.27   \n",
              "..                      ...                                       ...   \n",
              "237                     NaN                              NO PROVIDERS   \n",
              "238                     NaN                            HYPERINFLATION   \n",
              "239                     NaN                              NO PROVIDERS   \n",
              "240                     NaN  Prices listed in non-convertible 'units'   \n",
              "241                     NaN                 UNRELIABLE EXCHANGE RATES   \n",
              "\n",
              "    Cheapest 1GB for 30 days (USD) Most expensive 1GB (USD)  \\\n",
              "0                            $0.02                   $20.95   \n",
              "1                            $0.10                    $7.08   \n",
              "2                            $0.05                    $0.85   \n",
              "3                            $0.09                    $3.54   \n",
              "4                            $0.03                    $0.92   \n",
              "..                             ...                      ...   \n",
              "237                            NaN                      NaN   \n",
              "238                            NaN                      NaN   \n",
              "239                            NaN                      NaN   \n",
              "240                            NaN                      NaN   \n",
              "241                            NaN                      NaN   \n",
              "\n",
              "    Average price of 1GB (USD  at the start of 2021)  \\\n",
              "0                                              $0.11   \n",
              "1                                              $0.21   \n",
              "2                                              $0.59   \n",
              "3                                              $0.43   \n",
              "4                                              $0.63   \n",
              "..                                               ...   \n",
              "237                                              NaN   \n",
              "238                                              NaN   \n",
              "239                                              NaN   \n",
              "240                                              NaN   \n",
              "241                                              NaN   \n",
              "\n",
              "    Average price of 1GB (USD – at start of 2020)  \n",
              "0                                           $0.90  \n",
              "1                                           $0.27  \n",
              "2                                           $3.57  \n",
              "3                                           $1.73  \n",
              "4                                           $0.68  \n",
              "..                                            ...  \n",
              "237                                           NaN  \n",
              "238                                           NaN  \n",
              "239                                           NaN  \n",
              "240                                           NaN  \n",
              "241                                           NaN  \n",
              "\n",
              "[242 rows x 9 columns]"
            ],
            "text/html": [
              "\n",
              "  <div id=\"df-a774c2d0-e128-42c3-aa67-5b473994453a\">\n",
              "    <div class=\"colab-df-container\">\n",
              "      <div>\n",
              "<style scoped>\n",
              "    .dataframe tbody tr th:only-of-type {\n",
              "        vertical-align: middle;\n",
              "    }\n",
              "\n",
              "    .dataframe tbody tr th {\n",
              "        vertical-align: top;\n",
              "    }\n",
              "\n",
              "    .dataframe thead th {\n",
              "        text-align: right;\n",
              "    }\n",
              "</style>\n",
              "<table border=\"1\" class=\"dataframe\">\n",
              "  <thead>\n",
              "    <tr style=\"text-align: right;\">\n",
              "      <th></th>\n",
              "      <th>Country code</th>\n",
              "      <th>Name</th>\n",
              "      <th>Continental region</th>\n",
              "      <th>NO. OF Internet Plans</th>\n",
              "      <th>Average price of 1GB (USD)</th>\n",
              "      <th>Cheapest 1GB for 30 days (USD)</th>\n",
              "      <th>Most expensive 1GB (USD)</th>\n",
              "      <th>Average price of 1GB (USD  at the start of 2021)</th>\n",
              "      <th>Average price of 1GB (USD – at start of 2020)</th>\n",
              "    </tr>\n",
              "  </thead>\n",
              "  <tbody>\n",
              "    <tr>\n",
              "      <th>0</th>\n",
              "      <td>IL</td>\n",
              "      <td>Israel</td>\n",
              "      <td>NEAR EAST</td>\n",
              "      <td>27.0</td>\n",
              "      <td>$0.05</td>\n",
              "      <td>$0.02</td>\n",
              "      <td>$20.95</td>\n",
              "      <td>$0.11</td>\n",
              "      <td>$0.90</td>\n",
              "    </tr>\n",
              "    <tr>\n",
              "      <th>1</th>\n",
              "      <td>KG</td>\n",
              "      <td>Kyrgyzstan</td>\n",
              "      <td>CIS (FORMER USSR)</td>\n",
              "      <td>20.0</td>\n",
              "      <td>$0.15</td>\n",
              "      <td>$0.10</td>\n",
              "      <td>$7.08</td>\n",
              "      <td>$0.21</td>\n",
              "      <td>$0.27</td>\n",
              "    </tr>\n",
              "    <tr>\n",
              "      <th>2</th>\n",
              "      <td>FJ</td>\n",
              "      <td>Fiji</td>\n",
              "      <td>OCEANIA</td>\n",
              "      <td>18.0</td>\n",
              "      <td>$0.19</td>\n",
              "      <td>$0.05</td>\n",
              "      <td>$0.85</td>\n",
              "      <td>$0.59</td>\n",
              "      <td>$3.57</td>\n",
              "    </tr>\n",
              "    <tr>\n",
              "      <th>3</th>\n",
              "      <td>IT</td>\n",
              "      <td>Italy</td>\n",
              "      <td>WESTERN EUROPE</td>\n",
              "      <td>29.0</td>\n",
              "      <td>$0.27</td>\n",
              "      <td>$0.09</td>\n",
              "      <td>$3.54</td>\n",
              "      <td>$0.43</td>\n",
              "      <td>$1.73</td>\n",
              "    </tr>\n",
              "    <tr>\n",
              "      <th>4</th>\n",
              "      <td>SD</td>\n",
              "      <td>Sudan</td>\n",
              "      <td>SUB-SAHARAN AFRICA</td>\n",
              "      <td>33.0</td>\n",
              "      <td>$0.27</td>\n",
              "      <td>$0.03</td>\n",
              "      <td>$0.92</td>\n",
              "      <td>$0.63</td>\n",
              "      <td>$0.68</td>\n",
              "    </tr>\n",
              "    <tr>\n",
              "      <th>...</th>\n",
              "      <td>...</td>\n",
              "      <td>...</td>\n",
              "      <td>...</td>\n",
              "      <td>...</td>\n",
              "      <td>...</td>\n",
              "      <td>...</td>\n",
              "      <td>...</td>\n",
              "      <td>...</td>\n",
              "      <td>...</td>\n",
              "    </tr>\n",
              "    <tr>\n",
              "      <th>237</th>\n",
              "      <td>VA</td>\n",
              "      <td>Vatican City (Holy See)</td>\n",
              "      <td>Europe</td>\n",
              "      <td>NaN</td>\n",
              "      <td>NO PROVIDERS</td>\n",
              "      <td>NaN</td>\n",
              "      <td>NaN</td>\n",
              "      <td>NaN</td>\n",
              "      <td>NaN</td>\n",
              "    </tr>\n",
              "    <tr>\n",
              "      <th>238</th>\n",
              "      <td>VE</td>\n",
              "      <td>Venezuela</td>\n",
              "      <td>SOUTH AMERICA</td>\n",
              "      <td>NaN</td>\n",
              "      <td>HYPERINFLATION</td>\n",
              "      <td>NaN</td>\n",
              "      <td>NaN</td>\n",
              "      <td>NaN</td>\n",
              "      <td>NaN</td>\n",
              "    </tr>\n",
              "    <tr>\n",
              "      <th>239</th>\n",
              "      <td>WF</td>\n",
              "      <td>Wallis and Futuna</td>\n",
              "      <td>OCEANIA</td>\n",
              "      <td>NaN</td>\n",
              "      <td>NO PROVIDERS</td>\n",
              "      <td>NaN</td>\n",
              "      <td>NaN</td>\n",
              "      <td>NaN</td>\n",
              "      <td>NaN</td>\n",
              "    </tr>\n",
              "    <tr>\n",
              "      <th>240</th>\n",
              "      <td>CD</td>\n",
              "      <td>Congo (Democratic Republic of)</td>\n",
              "      <td>SUB-SAHARAN AFRICA</td>\n",
              "      <td>NaN</td>\n",
              "      <td>Prices listed in non-convertible 'units'</td>\n",
              "      <td>NaN</td>\n",
              "      <td>NaN</td>\n",
              "      <td>NaN</td>\n",
              "      <td>NaN</td>\n",
              "    </tr>\n",
              "    <tr>\n",
              "      <th>241</th>\n",
              "      <td>ZW</td>\n",
              "      <td>Zimbabwe</td>\n",
              "      <td>SUB-SAHARAN AFRICA</td>\n",
              "      <td>NaN</td>\n",
              "      <td>UNRELIABLE EXCHANGE RATES</td>\n",
              "      <td>NaN</td>\n",
              "      <td>NaN</td>\n",
              "      <td>NaN</td>\n",
              "      <td>NaN</td>\n",
              "    </tr>\n",
              "  </tbody>\n",
              "</table>\n",
              "<p>242 rows × 9 columns</p>\n",
              "</div>\n",
              "      <button class=\"colab-df-convert\" onclick=\"convertToInteractive('df-a774c2d0-e128-42c3-aa67-5b473994453a')\"\n",
              "              title=\"Convert this dataframe to an interactive table.\"\n",
              "              style=\"display:none;\">\n",
              "        \n",
              "  <svg xmlns=\"http://www.w3.org/2000/svg\" height=\"24px\"viewBox=\"0 0 24 24\"\n",
              "       width=\"24px\">\n",
              "    <path d=\"M0 0h24v24H0V0z\" fill=\"none\"/>\n",
              "    <path d=\"M18.56 5.44l.94 2.06.94-2.06 2.06-.94-2.06-.94-.94-2.06-.94 2.06-2.06.94zm-11 1L8.5 8.5l.94-2.06 2.06-.94-2.06-.94L8.5 2.5l-.94 2.06-2.06.94zm10 10l.94 2.06.94-2.06 2.06-.94-2.06-.94-.94-2.06-.94 2.06-2.06.94z\"/><path d=\"M17.41 7.96l-1.37-1.37c-.4-.4-.92-.59-1.43-.59-.52 0-1.04.2-1.43.59L10.3 9.45l-7.72 7.72c-.78.78-.78 2.05 0 2.83L4 21.41c.39.39.9.59 1.41.59.51 0 1.02-.2 1.41-.59l7.78-7.78 2.81-2.81c.8-.78.8-2.07 0-2.86zM5.41 20L4 18.59l7.72-7.72 1.47 1.35L5.41 20z\"/>\n",
              "  </svg>\n",
              "      </button>\n",
              "      \n",
              "  <style>\n",
              "    .colab-df-container {\n",
              "      display:flex;\n",
              "      flex-wrap:wrap;\n",
              "      gap: 12px;\n",
              "    }\n",
              "\n",
              "    .colab-df-convert {\n",
              "      background-color: #E8F0FE;\n",
              "      border: none;\n",
              "      border-radius: 50%;\n",
              "      cursor: pointer;\n",
              "      display: none;\n",
              "      fill: #1967D2;\n",
              "      height: 32px;\n",
              "      padding: 0 0 0 0;\n",
              "      width: 32px;\n",
              "    }\n",
              "\n",
              "    .colab-df-convert:hover {\n",
              "      background-color: #E2EBFA;\n",
              "      box-shadow: 0px 1px 2px rgba(60, 64, 67, 0.3), 0px 1px 3px 1px rgba(60, 64, 67, 0.15);\n",
              "      fill: #174EA6;\n",
              "    }\n",
              "\n",
              "    [theme=dark] .colab-df-convert {\n",
              "      background-color: #3B4455;\n",
              "      fill: #D2E3FC;\n",
              "    }\n",
              "\n",
              "    [theme=dark] .colab-df-convert:hover {\n",
              "      background-color: #434B5C;\n",
              "      box-shadow: 0px 1px 3px 1px rgba(0, 0, 0, 0.15);\n",
              "      filter: drop-shadow(0px 1px 2px rgba(0, 0, 0, 0.3));\n",
              "      fill: #FFFFFF;\n",
              "    }\n",
              "  </style>\n",
              "\n",
              "      <script>\n",
              "        const buttonEl =\n",
              "          document.querySelector('#df-a774c2d0-e128-42c3-aa67-5b473994453a button.colab-df-convert');\n",
              "        buttonEl.style.display =\n",
              "          google.colab.kernel.accessAllowed ? 'block' : 'none';\n",
              "\n",
              "        async function convertToInteractive(key) {\n",
              "          const element = document.querySelector('#df-a774c2d0-e128-42c3-aa67-5b473994453a');\n",
              "          const dataTable =\n",
              "            await google.colab.kernel.invokeFunction('convertToInteractive',\n",
              "                                                     [key], {});\n",
              "          if (!dataTable) return;\n",
              "\n",
              "          const docLinkHtml = 'Like what you see? Visit the ' +\n",
              "            '<a target=\"_blank\" href=https://colab.research.google.com/notebooks/data_table.ipynb>data table notebook</a>'\n",
              "            + ' to learn more about interactive tables.';\n",
              "          element.innerHTML = '';\n",
              "          dataTable['output_type'] = 'display_data';\n",
              "          await google.colab.output.renderOutput(dataTable, element);\n",
              "          const docLink = document.createElement('div');\n",
              "          docLink.innerHTML = docLinkHtml;\n",
              "          element.appendChild(docLink);\n",
              "        }\n",
              "      </script>\n",
              "    </div>\n",
              "  </div>\n",
              "  "
            ]
          },
          "metadata": {},
          "execution_count": 3
        }
      ]
    },
    {
      "cell_type": "markdown",
      "source": [
        "# Sobre a tabela:\n",
        "\n",
        "> A assinatura de Internet pode ser compartilhada por muitas pessoas e uma única pessoa pode ter mais de uma assinatura, a taxa de penetração não refletirá o nível real de acesso à Internet de banda larga da população e taxas de penetração superiores a 100% são possíveis.\n",
        "\n"
      ],
      "metadata": {
        "id": "cU1xB7DZIvpc"
      }
    },
    {
      "cell_type": "markdown",
      "source": [
        "Tipos de Dados presente no Dataset:"
      ],
      "metadata": {
        "id": "U-1ch4xhHmRs"
      }
    },
    {
      "cell_type": "code",
      "source": [
        "valorInternet.info()"
      ],
      "metadata": {
        "colab": {
          "base_uri": "https://localhost:8080/"
        },
        "id": "vjZQgW0qHu_U",
        "outputId": "686890c7-ddc3-4de2-da34-674151eda325"
      },
      "execution_count": null,
      "outputs": [
        {
          "output_type": "stream",
          "name": "stdout",
          "text": [
            "<class 'pandas.core.frame.DataFrame'>\n",
            "RangeIndex: 242 entries, 0 to 241\n",
            "Data columns (total 9 columns):\n",
            " #   Column                                            Non-Null Count  Dtype  \n",
            "---  ------                                            --------------  -----  \n",
            " 0   Country code                                      241 non-null    object \n",
            " 1   Name                                              242 non-null    object \n",
            " 2   Continental region                                242 non-null    object \n",
            " 3   NO. OF Internet Plans                             230 non-null    float64\n",
            " 4   Average price of 1GB (USD)                        242 non-null    object \n",
            " 5   Cheapest 1GB for 30 days (USD)                    230 non-null    object \n",
            " 6   Most expensive 1GB (USD)                          230 non-null    object \n",
            " 7   Average price of 1GB (USD  at the start of 2021)  230 non-null    object \n",
            " 8   Average price of 1GB (USD – at start of 2020)     230 non-null    object \n",
            "dtypes: float64(1), object(8)\n",
            "memory usage: 17.1+ KB\n"
          ]
        }
      ]
    },
    {
      "cell_type": "markdown",
      "source": [
        "# Descrição dos dados:"
      ],
      "metadata": {
        "id": "yZKVM0jKH0ts"
      }
    },
    {
      "cell_type": "code",
      "source": [
        "valorInternet.describe()"
      ],
      "metadata": {
        "colab": {
          "base_uri": "https://localhost:8080/",
          "height": 300
        },
        "id": "JZHxWKfiIaqM",
        "outputId": "0c413b32-e4cf-4ea0-c7d9-642cf5743698"
      },
      "execution_count": null,
      "outputs": [
        {
          "output_type": "execute_result",
          "data": {
            "text/plain": [
              "       NO. OF Internet Plans \n",
              "count              230.000000\n",
              "mean                26.730435\n",
              "std                 16.468216\n",
              "min                  1.000000\n",
              "25%                 15.000000\n",
              "50%                 22.000000\n",
              "75%                 36.000000\n",
              "max                 60.000000"
            ],
            "text/html": [
              "\n",
              "  <div id=\"df-965c6088-d048-4716-8744-f95fa9b99c19\">\n",
              "    <div class=\"colab-df-container\">\n",
              "      <div>\n",
              "<style scoped>\n",
              "    .dataframe tbody tr th:only-of-type {\n",
              "        vertical-align: middle;\n",
              "    }\n",
              "\n",
              "    .dataframe tbody tr th {\n",
              "        vertical-align: top;\n",
              "    }\n",
              "\n",
              "    .dataframe thead th {\n",
              "        text-align: right;\n",
              "    }\n",
              "</style>\n",
              "<table border=\"1\" class=\"dataframe\">\n",
              "  <thead>\n",
              "    <tr style=\"text-align: right;\">\n",
              "      <th></th>\n",
              "      <th>NO. OF Internet Plans</th>\n",
              "    </tr>\n",
              "  </thead>\n",
              "  <tbody>\n",
              "    <tr>\n",
              "      <th>count</th>\n",
              "      <td>230.000000</td>\n",
              "    </tr>\n",
              "    <tr>\n",
              "      <th>mean</th>\n",
              "      <td>26.730435</td>\n",
              "    </tr>\n",
              "    <tr>\n",
              "      <th>std</th>\n",
              "      <td>16.468216</td>\n",
              "    </tr>\n",
              "    <tr>\n",
              "      <th>min</th>\n",
              "      <td>1.000000</td>\n",
              "    </tr>\n",
              "    <tr>\n",
              "      <th>25%</th>\n",
              "      <td>15.000000</td>\n",
              "    </tr>\n",
              "    <tr>\n",
              "      <th>50%</th>\n",
              "      <td>22.000000</td>\n",
              "    </tr>\n",
              "    <tr>\n",
              "      <th>75%</th>\n",
              "      <td>36.000000</td>\n",
              "    </tr>\n",
              "    <tr>\n",
              "      <th>max</th>\n",
              "      <td>60.000000</td>\n",
              "    </tr>\n",
              "  </tbody>\n",
              "</table>\n",
              "</div>\n",
              "      <button class=\"colab-df-convert\" onclick=\"convertToInteractive('df-965c6088-d048-4716-8744-f95fa9b99c19')\"\n",
              "              title=\"Convert this dataframe to an interactive table.\"\n",
              "              style=\"display:none;\">\n",
              "        \n",
              "  <svg xmlns=\"http://www.w3.org/2000/svg\" height=\"24px\"viewBox=\"0 0 24 24\"\n",
              "       width=\"24px\">\n",
              "    <path d=\"M0 0h24v24H0V0z\" fill=\"none\"/>\n",
              "    <path d=\"M18.56 5.44l.94 2.06.94-2.06 2.06-.94-2.06-.94-.94-2.06-.94 2.06-2.06.94zm-11 1L8.5 8.5l.94-2.06 2.06-.94-2.06-.94L8.5 2.5l-.94 2.06-2.06.94zm10 10l.94 2.06.94-2.06 2.06-.94-2.06-.94-.94-2.06-.94 2.06-2.06.94z\"/><path d=\"M17.41 7.96l-1.37-1.37c-.4-.4-.92-.59-1.43-.59-.52 0-1.04.2-1.43.59L10.3 9.45l-7.72 7.72c-.78.78-.78 2.05 0 2.83L4 21.41c.39.39.9.59 1.41.59.51 0 1.02-.2 1.41-.59l7.78-7.78 2.81-2.81c.8-.78.8-2.07 0-2.86zM5.41 20L4 18.59l7.72-7.72 1.47 1.35L5.41 20z\"/>\n",
              "  </svg>\n",
              "      </button>\n",
              "      \n",
              "  <style>\n",
              "    .colab-df-container {\n",
              "      display:flex;\n",
              "      flex-wrap:wrap;\n",
              "      gap: 12px;\n",
              "    }\n",
              "\n",
              "    .colab-df-convert {\n",
              "      background-color: #E8F0FE;\n",
              "      border: none;\n",
              "      border-radius: 50%;\n",
              "      cursor: pointer;\n",
              "      display: none;\n",
              "      fill: #1967D2;\n",
              "      height: 32px;\n",
              "      padding: 0 0 0 0;\n",
              "      width: 32px;\n",
              "    }\n",
              "\n",
              "    .colab-df-convert:hover {\n",
              "      background-color: #E2EBFA;\n",
              "      box-shadow: 0px 1px 2px rgba(60, 64, 67, 0.3), 0px 1px 3px 1px rgba(60, 64, 67, 0.15);\n",
              "      fill: #174EA6;\n",
              "    }\n",
              "\n",
              "    [theme=dark] .colab-df-convert {\n",
              "      background-color: #3B4455;\n",
              "      fill: #D2E3FC;\n",
              "    }\n",
              "\n",
              "    [theme=dark] .colab-df-convert:hover {\n",
              "      background-color: #434B5C;\n",
              "      box-shadow: 0px 1px 3px 1px rgba(0, 0, 0, 0.15);\n",
              "      filter: drop-shadow(0px 1px 2px rgba(0, 0, 0, 0.3));\n",
              "      fill: #FFFFFF;\n",
              "    }\n",
              "  </style>\n",
              "\n",
              "      <script>\n",
              "        const buttonEl =\n",
              "          document.querySelector('#df-965c6088-d048-4716-8744-f95fa9b99c19 button.colab-df-convert');\n",
              "        buttonEl.style.display =\n",
              "          google.colab.kernel.accessAllowed ? 'block' : 'none';\n",
              "\n",
              "        async function convertToInteractive(key) {\n",
              "          const element = document.querySelector('#df-965c6088-d048-4716-8744-f95fa9b99c19');\n",
              "          const dataTable =\n",
              "            await google.colab.kernel.invokeFunction('convertToInteractive',\n",
              "                                                     [key], {});\n",
              "          if (!dataTable) return;\n",
              "\n",
              "          const docLinkHtml = 'Like what you see? Visit the ' +\n",
              "            '<a target=\"_blank\" href=https://colab.research.google.com/notebooks/data_table.ipynb>data table notebook</a>'\n",
              "            + ' to learn more about interactive tables.';\n",
              "          element.innerHTML = '';\n",
              "          dataTable['output_type'] = 'display_data';\n",
              "          await google.colab.output.renderOutput(dataTable, element);\n",
              "          const docLink = document.createElement('div');\n",
              "          docLink.innerHTML = docLinkHtml;\n",
              "          element.appendChild(docLink);\n",
              "        }\n",
              "      </script>\n",
              "    </div>\n",
              "  </div>\n",
              "  "
            ]
          },
          "metadata": {},
          "execution_count": 6
        }
      ]
    },
    {
      "cell_type": "markdown",
      "source": [
        "# Graficos das variaveis:"
      ],
      "metadata": {
        "id": "8-ZkKy4LI8i3"
      }
    },
    {
      "cell_type": "code",
      "source": [
        "valorInternet['Average price of 1GB (USD)'].value_counts().head().plot.pie(autopct='%.0f%%')"
      ],
      "metadata": {
        "colab": {
          "base_uri": "https://localhost:8080/",
          "height": 265
        },
        "id": "Qbkxo37RJMs1",
        "outputId": "8019788c-3e13-44be-d2d0-79f384eec255"
      },
      "execution_count": null,
      "outputs": [
        {
          "output_type": "execute_result",
          "data": {
            "text/plain": [
              "<matplotlib.axes._subplots.AxesSubplot at 0x7f178b9d97d0>"
            ]
          },
          "metadata": {},
          "execution_count": 9
        },
        {
          "output_type": "display_data",
          "data": {
            "text/plain": [
              "<Figure size 432x288 with 1 Axes>"
            ],
            "image/png": "[encoded data removed]"
          },
          "metadata": {}
        }
      ]
    },
    {
      "cell_type": "code",
      "source": [
        "valorInternet['Cheapest 1GB for 30 days (USD)'].value_counts().head().plot.pie(autopct='%.0f%%')"
      ],
      "metadata": {
        "colab": {
          "base_uri": "https://localhost:8080/",
          "height": 265
        },
        "id": "-5GKYdWMJVbs",
        "outputId": "03c20188-f27c-46c5-cfce-3fa85297c975"
      },
      "execution_count": null,
      "outputs": [
        {
          "output_type": "execute_result",
          "data": {
            "text/plain": [
              "<matplotlib.axes._subplots.AxesSubplot at 0x7f178b93d810>"
            ]
          },
          "metadata": {},
          "execution_count": 11
        },
        {
          "output_type": "display_data",
          "data": {
            "text/plain": [
              "<Figure size 432x288 with 1 Axes>"
            ],
            "image/png": "[encoded data removed]"
          },
          "metadata": {}
        }
      ]
    },
    {
      "cell_type": "code",
      "source": [
        "valorInternet['Most expensive 1GB (USD)'].value_counts().head().plot.pie(autopct='%.0f%%')"
      ],
      "metadata": {
        "colab": {
          "base_uri": "https://localhost:8080/",
          "height": 265
        },
        "id": "SCdPPWUSJgg0",
        "outputId": "47e495fc-f04c-4f77-a01b-041ea127843f"
      },
      "execution_count": null,
      "outputs": [
        {
          "output_type": "execute_result",
          "data": {
            "text/plain": [
              "<matplotlib.axes._subplots.AxesSubplot at 0x7f178b43c410>"
            ]
          },
          "metadata": {},
          "execution_count": 12
        },
        {
          "output_type": "display_data",
          "data": {
            "text/plain": [
              "<Figure size 432x288 with 1 Axes>"
            ],
            "image/png": "[encoded data removed]"
          },
          "metadata": {}
        }
      ]
    },
    {
      "cell_type": "markdown",
      "source": [
        "# Cruzamentos de algumas variaveis:"
      ],
      "metadata": {
        "id": "ivaz700yLZH0"
      }
    },
    {
      "cell_type": "code",
      "source": [
        "CruzamentoUm = valorInternet[['Average price of 1GB (USD)', 'Cheapest 1GB for 30 days (USD)','Most expensive 1GB (USD)']]\n",
        "CruzamentoUm"
      ],
      "metadata": {
        "colab": {
          "base_uri": "https://localhost:8080/",
          "height": 424
        },
        "id": "-9BfxgZaLvhW",
        "outputId": "7da5820d-6da0-4a28-ce97-e500df5e4046"
      },
      "execution_count": null,
      "outputs": [
        {
          "output_type": "execute_result",
          "data": {
            "text/plain": [
              "                   Average price of 1GB (USD) Cheapest 1GB for 30 days (USD)  \\\n",
              "0                                       $0.05                          $0.02   \n",
              "1                                       $0.15                          $0.10   \n",
              "2                                       $0.19                          $0.05   \n",
              "3                                       $0.27                          $0.09   \n",
              "4                                       $0.27                          $0.03   \n",
              "..                                        ...                            ...   \n",
              "237                              NO PROVIDERS                            NaN   \n",
              "238                            HYPERINFLATION                            NaN   \n",
              "239                              NO PROVIDERS                            NaN   \n",
              "240  Prices listed in non-convertible 'units'                            NaN   \n",
              "241                 UNRELIABLE EXCHANGE RATES                            NaN   \n",
              "\n",
              "    Most expensive 1GB (USD)  \n",
              "0                     $20.95  \n",
              "1                      $7.08  \n",
              "2                      $0.85  \n",
              "3                      $3.54  \n",
              "4                      $0.92  \n",
              "..                       ...  \n",
              "237                      NaN  \n",
              "238                      NaN  \n",
              "239                      NaN  \n",
              "240                      NaN  \n",
              "241                      NaN  \n",
              "\n",
              "[242 rows x 3 columns]"
            ],
            "text/html": [
              "\n",
              "  <div id=\"df-8b6a581e-0eab-4e5d-ab73-bf670aaa960a\">\n",
              "    <div class=\"colab-df-container\">\n",
              "      <div>\n",
              "<style scoped>\n",
              "    .dataframe tbody tr th:only-of-type {\n",
              "        vertical-align: middle;\n",
              "    }\n",
              "\n",
              "    .dataframe tbody tr th {\n",
              "        vertical-align: top;\n",
              "    }\n",
              "\n",
              "    .dataframe thead th {\n",
              "        text-align: right;\n",
              "    }\n",
              "</style>\n",
              "<table border=\"1\" class=\"dataframe\">\n",
              "  <thead>\n",
              "    <tr style=\"text-align: right;\">\n",
              "      <th></th>\n",
              "      <th>Average price of 1GB (USD)</th>\n",
              "      <th>Cheapest 1GB for 30 days (USD)</th>\n",
              "      <th>Most expensive 1GB (USD)</th>\n",
              "    </tr>\n",
              "  </thead>\n",
              "  <tbody>\n",
              "    <tr>\n",
              "      <th>0</th>\n",
              "      <td>$0.05</td>\n",
              "      <td>$0.02</td>\n",
              "      <td>$20.95</td>\n",
              "    </tr>\n",
              "    <tr>\n",
              "      <th>1</th>\n",
              "      <td>$0.15</td>\n",
              "      <td>$0.10</td>\n",
              "      <td>$7.08</td>\n",
              "    </tr>\n",
              "    <tr>\n",
              "      <th>2</th>\n",
              "      <td>$0.19</td>\n",
              "      <td>$0.05</td>\n",
              "      <td>$0.85</td>\n",
              "    </tr>\n",
              "    <tr>\n",
              "      <th>3</th>\n",
              "      <td>$0.27</td>\n",
              "      <td>$0.09</td>\n",
              "      <td>$3.54</td>\n",
              "    </tr>\n",
              "    <tr>\n",
              "      <th>4</th>\n",
              "      <td>$0.27</td>\n",
              "      <td>$0.03</td>\n",
              "      <td>$0.92</td>\n",
              "    </tr>\n",
              "    <tr>\n",
              "      <th>...</th>\n",
              "      <td>...</td>\n",
              "      <td>...</td>\n",
              "      <td>...</td>\n",
              "    </tr>\n",
              "    <tr>\n",
              "      <th>237</th>\n",
              "      <td>NO PROVIDERS</td>\n",
              "      <td>NaN</td>\n",
              "      <td>NaN</td>\n",
              "    </tr>\n",
              "    <tr>\n",
              "      <th>238</th>\n",
              "      <td>HYPERINFLATION</td>\n",
              "      <td>NaN</td>\n",
              "      <td>NaN</td>\n",
              "    </tr>\n",
              "    <tr>\n",
              "      <th>239</th>\n",
              "      <td>NO PROVIDERS</td>\n",
              "      <td>NaN</td>\n",
              "      <td>NaN</td>\n",
              "    </tr>\n",
              "    <tr>\n",
              "      <th>240</th>\n",
              "      <td>Prices listed in non-convertible 'units'</td>\n",
              "      <td>NaN</td>\n",
              "      <td>NaN</td>\n",
              "    </tr>\n",
              "    <tr>\n",
              "      <th>241</th>\n",
              "      <td>UNRELIABLE EXCHANGE RATES</td>\n",
              "      <td>NaN</td>\n",
              "      <td>NaN</td>\n",
              "    </tr>\n",
              "  </tbody>\n",
              "</table>\n",
              "<p>242 rows × 3 columns</p>\n",
              "</div>\n",
              "      <button class=\"colab-df-convert\" onclick=\"convertToInteractive('df-8b6a581e-0eab-4e5d-ab73-bf670aaa960a')\"\n",
              "              title=\"Convert this dataframe to an interactive table.\"\n",
              "              style=\"display:none;\">\n",
              "        \n",
              "  <svg xmlns=\"http://www.w3.org/2000/svg\" height=\"24px\"viewBox=\"0 0 24 24\"\n",
              "       width=\"24px\">\n",
              "    <path d=\"M0 0h24v24H0V0z\" fill=\"none\"/>\n",
              "    <path d=\"M18.56 5.44l.94 2.06.94-2.06 2.06-.94-2.06-.94-.94-2.06-.94 2.06-2.06.94zm-11 1L8.5 8.5l.94-2.06 2.06-.94-2.06-.94L8.5 2.5l-.94 2.06-2.06.94zm10 10l.94 2.06.94-2.06 2.06-.94-2.06-.94-.94-2.06-.94 2.06-2.06.94z\"/><path d=\"M17.41 7.96l-1.37-1.37c-.4-.4-.92-.59-1.43-.59-.52 0-1.04.2-1.43.59L10.3 9.45l-7.72 7.72c-.78.78-.78 2.05 0 2.83L4 21.41c.39.39.9.59 1.41.59.51 0 1.02-.2 1.41-.59l7.78-7.78 2.81-2.81c.8-.78.8-2.07 0-2.86zM5.41 20L4 18.59l7.72-7.72 1.47 1.35L5.41 20z\"/>\n",
              "  </svg>\n",
              "      </button>\n",
              "      \n",
              "  <style>\n",
              "    .colab-df-container {\n",
              "      display:flex;\n",
              "      flex-wrap:wrap;\n",
              "      gap: 12px;\n",
              "    }\n",
              "\n",
              "    .colab-df-convert {\n",
              "      background-color: #E8F0FE;\n",
              "      border: none;\n",
              "      border-radius: 50%;\n",
              "      cursor: pointer;\n",
              "      display: none;\n",
              "      fill: #1967D2;\n",
              "      height: 32px;\n",
              "      padding: 0 0 0 0;\n",
              "      width: 32px;\n",
              "    }\n",
              "\n",
              "    .colab-df-convert:hover {\n",
              "      background-color: #E2EBFA;\n",
              "      box-shadow: 0px 1px 2px rgba(60, 64, 67, 0.3), 0px 1px 3px 1px rgba(60, 64, 67, 0.15);\n",
              "      fill: #174EA6;\n",
              "    }\n",
              "\n",
              "    [theme=dark] .colab-df-convert {\n",
              "      background-color: #3B4455;\n",
              "      fill: #D2E3FC;\n",
              "    }\n",
              "\n",
              "    [theme=dark] .colab-df-convert:hover {\n",
              "      background-color: #434B5C;\n",
              "      box-shadow: 0px 1px 3px 1px rgba(0, 0, 0, 0.15);\n",
              "      filter: drop-shadow(0px 1px 2px rgba(0, 0, 0, 0.3));\n",
              "      fill: #FFFFFF;\n",
              "    }\n",
              "  </style>\n",
              "\n",
              "      <script>\n",
              "        const buttonEl =\n",
              "          document.querySelector('#df-8b6a581e-0eab-4e5d-ab73-bf670aaa960a button.colab-df-convert');\n",
              "        buttonEl.style.display =\n",
              "          google.colab.kernel.accessAllowed ? 'block' : 'none';\n",
              "\n",
              "        async function convertToInteractive(key) {\n",
              "          const element = document.querySelector('#df-8b6a581e-0eab-4e5d-ab73-bf670aaa960a');\n",
              "          const dataTable =\n",
              "            await google.colab.kernel.invokeFunction('convertToInteractive',\n",
              "                                                     [key], {});\n",
              "          if (!dataTable) return;\n",
              "\n",
              "          const docLinkHtml = 'Like what you see? Visit the ' +\n",
              "            '<a target=\"_blank\" href=https://colab.research.google.com/notebooks/data_table.ipynb>data table notebook</a>'\n",
              "            + ' to learn more about interactive tables.';\n",
              "          element.innerHTML = '';\n",
              "          dataTable['output_type'] = 'display_data';\n",
              "          await google.colab.output.renderOutput(dataTable, element);\n",
              "          const docLink = document.createElement('div');\n",
              "          docLink.innerHTML = docLinkHtml;\n",
              "          element.appendChild(docLink);\n",
              "        }\n",
              "      </script>\n",
              "    </div>\n",
              "  </div>\n",
              "  "
            ]
          },
          "metadata": {},
          "execution_count": 17
        }
      ]
    }
  ]
}